{
  "nbformat": 4,
  "nbformat_minor": 0,
  "metadata": {
    "colab": {
      "provenance": []
    },
    "kernelspec": {
      "name": "python3",
      "display_name": "Python 3"
    }
  },
  "cells": [
    {
      "cell_type": "markdown",
      "metadata": {
        "id": "J5pw0UgX9JnU"
      },
      "source": [
        "# 13/30 Numpy et Broadcasting"
      ]
    },
    {
      "cell_type": "code",
      "metadata": {
        "id": "6wGW7Fwh9kic"
      },
      "source": [
        "import numpy as np"
      ],
      "execution_count": null,
      "outputs": []
    },
    {
      "cell_type": "code",
      "metadata": {
        "id": "95_zT3lb9OCl",
        "colab": {
          "base_uri": "https://localhost:8080/",
          "height": 85
        },
        "outputId": "c50c45d6-f2d8-4cad-cde1-e3416ec4d01b"
      },
      "source": [
        "A = np.ones((2, 3))\n",
        "B = 3\n",
        "print(A+B) # résultat 1\n",
        "\n",
        "A = np.ones((2, 3))\n",
        "B = np.ones((2, 1)) # B a une colonne, elle sera étendu sur les trois colonnes de A\n",
        "print(A+B) # résultat 2\n",
        "\n",
        "A = np.ones((2, 3))\n",
        "B = np.ones((2, 2))\n"
      ],
      "execution_count": null,
      "outputs": [
        {
          "output_type": "stream",
          "text": [
            "[[4. 4. 4.]\n",
            " [4. 4. 4.]]\n",
            "[[2. 2. 2.]\n",
            " [2. 2. 2.]]\n"
          ],
          "name": "stdout"
        }
      ]
    },
    {
      "cell_type": "code",
      "metadata": {
        "id": "ilEaxc-M9igj"
      },
      "source": [],
      "execution_count": null,
      "outputs": []
    }
  ]
}